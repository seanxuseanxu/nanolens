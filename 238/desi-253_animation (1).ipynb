{
 "cells": [
  {
   "cell_type": "code",
   "execution_count": 1,
   "id": "4680dded-c484-4a94-b7c0-51b44a264ca0",
   "metadata": {
    "tags": []
   },
   "outputs": [],
   "source": [
    "import copy\n",
    "import numpy as np\n",
    "from PIL import Image\n",
    "import matplotlib.pyplot as plt\n",
    "%matplotlib inline\n",
    "from lenstronomy.LensModel.lens_model_extensions import LensModelExtensions\n",
    "\n",
    "# make sure lenstronomy is installed, otherwise install the latest pip version\n",
    "\n",
    "\n",
    "# lenstronomy module import\n",
    "import lenstronomy.Util.data_util as data_util\n",
    "import lenstronomy.Util.util as util\n",
    "import lenstronomy.Plots.plot_util as plot_util\n",
    "from lenstronomy.SimulationAPI.sim_api import SimAPI\n",
    "from lenstronomy.LightModel.Profiles.gaussian import GaussianEllipse\n",
    "gauss = GaussianEllipse()\n",
    "from lenstronomy.LensModel.Solver.lens_equation_solver import LensEquationSolver\n",
    "from lenstronomy.LensModel.lens_model import LensModel\n",
    "from lenstronomy.SimulationAPI.model_api import ModelAPI\n",
    "from lenstronomy.Cosmo.lens_cosmo import LensCosmo\n",
    "from matplotlib import pyplot, transforms\n",
    "import lenstronomy.Util.param_util as param_util\n",
    "from lenstronomy.Util.param_util import phi_q2_ellipticity, shear_polar2cartesian\n",
    "import time\n",
    "from lenstronomy.Cosmo.lens_cosmo import LensCosmo\n",
    "from lenstronomy.Cosmo.lens_cosmo import LensCosmo\n",
    "from matplotlib import pyplot, transforms\n",
    "import lenstronomy.Util.param_util as param_util\n",
    "import time\n",
    "from astropy.cosmology import FlatLambdaCDM\n",
    "from lenstronomy.Plots import lens_plot\n",
    "\n",
    "# import lenstronomy.Util.coolest_update_util as cool_util\n"
   ]
  },
  {
   "cell_type": "code",
   "execution_count": 2,
   "id": "140f130e-1a82-488f-b929-16c3c7d50549",
   "metadata": {
    "tags": []
   },
   "outputs": [],
   "source": [
    "def simulate_rgb(ConfigList, size, kwargs_numerics,lens_light,source_light,ps_light,kwargs_lens_light_mag_g,kwargs_source_mag_g,kwargs_ps_mag_g,kwargs_model,kwargs_lens,sec_lens):\n",
    "    size=10\n",
    "    if sec_lens:\n",
    "        g_r_source = 1  # color mag_g - mag_r for source\n",
    "        g_r_lens = -0.1  # color mag_g - mag_r for lens light\n",
    "        g_r_ps = 0\n",
    "        kwargs_lens_light_mag_r = copy.deepcopy(kwargs_lens_light_mag_g)\n",
    "        kwargs_lens_light_mag_r[0]['magnitude'] -= g_r_lens\n",
    "\n",
    "        kwargs_source_mag_r = copy.deepcopy(kwargs_source_mag_g)\n",
    "        kwargs_source_mag_r[0]['magnitude'] -= g_r_source\n",
    "\n",
    "        kwargs_ps_mag_r = copy.deepcopy(kwargs_ps_mag_g)\n",
    "        kwargs_ps_mag_r[0]['magnitude'] -= g_r_ps\n",
    "\n",
    "\n",
    "        # i-band\n",
    "        g_i_source = 2\n",
    "        g_i_lens = -0.2\n",
    "        g_i_ps = 0\n",
    "        kwargs_lens_light_mag_i = copy.deepcopy(kwargs_lens_light_mag_g)\n",
    "        kwargs_lens_light_mag_i[0]['magnitude'] -= g_i_lens\n",
    "\n",
    "        kwargs_source_mag_i = copy.deepcopy(kwargs_source_mag_g)\n",
    "        kwargs_source_mag_i[0]['magnitude'] -= g_i_source\n",
    "\n",
    "        kwargs_ps_mag_i = copy.deepcopy(kwargs_ps_mag_g)\n",
    "        kwargs_ps_mag_i[0]['magnitude'] -= g_i_ps\n",
    "    else:\n",
    "        g_r_source = 1  # color mag_g - mag_r for source\n",
    "        g_r_lens = -1  # color mag_g - mag_r for lens light\n",
    "        g_r_ps = 0\n",
    "        kwargs_lens_light_mag_r = copy.deepcopy(kwargs_lens_light_mag_g)\n",
    "        kwargs_lens_light_mag_r[0]['magnitude'] -= g_r_lens\n",
    "\n",
    "        kwargs_source_mag_r = copy.deepcopy(kwargs_source_mag_g)\n",
    "        kwargs_source_mag_r[0]['magnitude'] -= g_r_source\n",
    "\n",
    "        kwargs_ps_mag_r = copy.deepcopy(kwargs_ps_mag_g)\n",
    "        kwargs_ps_mag_r[0]['magnitude'] -= g_r_ps\n",
    "\n",
    "\n",
    "        # i-band\n",
    "        g_i_source = 2\n",
    "        g_i_lens = -2\n",
    "        g_i_ps = 0\n",
    "        kwargs_lens_light_mag_i = copy.deepcopy(kwargs_lens_light_mag_g)\n",
    "        kwargs_lens_light_mag_i[0]['magnitude'] -= g_i_lens\n",
    "\n",
    "        kwargs_source_mag_i = copy.deepcopy(kwargs_source_mag_g)\n",
    "        kwargs_source_mag_i[0]['magnitude'] -= g_i_source\n",
    "\n",
    "        kwargs_ps_mag_i = copy.deepcopy(kwargs_ps_mag_g)\n",
    "        kwargs_ps_mag_i[0]['magnitude'] -= g_i_ps\n",
    "    \n",
    "    \n",
    "    band_b, band_g, band_r = ConfigList\n",
    "    kwargs_b_band = band_b.kwargs_single_band()\n",
    "    kwargs_g_band = band_g.kwargs_single_band()\n",
    "    kwargs_r_band = band_r.kwargs_single_band()\n",
    "    \n",
    "    # kwargs_b_band['pixel_scale'] = 0.2\n",
    "    # kwargs_g_band['pixel_scale'] = 0.2\n",
    "    # kwargs_r_band['pixel_scale'] = 0.2\n",
    "    # set number of pixels from pixel scale\n",
    "    pixel_scale = kwargs_g_band['pixel_scale']\n",
    "    numpix = int(round(size / pixel_scale))\n",
    "\n",
    "    sim_b = SimAPI(numpix=numpix, kwargs_single_band=kwargs_b_band, kwargs_model=kwargs_model)\n",
    "    sim_g = SimAPI(numpix=numpix, kwargs_single_band=kwargs_g_band, kwargs_model=kwargs_model)\n",
    "    sim_r = SimAPI(numpix=numpix, kwargs_single_band=kwargs_r_band, kwargs_model=kwargs_model)\n",
    "\n",
    "    # return the ImSim instance. With this class instance, you can compute all the\n",
    "    # modelling accessible of the core modules. See class documentation and other notebooks.\n",
    "    imSim_b = sim_b.image_model_class(kwargs_numerics)\n",
    "    imSim_g = sim_g.image_model_class(kwargs_numerics)\n",
    "    imSim_r = sim_r.image_model_class(kwargs_numerics)\n",
    "\n",
    "\n",
    "    # turn magnitude kwargs into lenstronomy kwargs\n",
    "    kwargs_lens_light_g, kwargs_source_g, kwargs_ps_g = sim_b.magnitude2amplitude(kwargs_lens_light_mag_g, kwargs_source_mag_g, kwargs_ps_mag_g)\n",
    "    kwargs_lens_light_r, kwargs_source_r, kwargs_ps_r = sim_g.magnitude2amplitude(kwargs_lens_light_mag_r, kwargs_source_mag_r, kwargs_ps_mag_r)\n",
    "    kwargs_lens_light_i, kwargs_source_i, kwargs_ps_i = sim_r.magnitude2amplitude(kwargs_lens_light_mag_i, kwargs_source_mag_i, kwargs_ps_mag_i)\n",
    "\n",
    "    \n",
    "    image_b = imSim_b.image(kwargs_lens, kwargs_source_g, kwargs_lens_light_g, kwargs_ps_g,lens_light_add=lens_light,source_add=source_light,point_source_add=source_light)\n",
    "    image_g = imSim_g.image(kwargs_lens, kwargs_source_r, kwargs_lens_light_r, kwargs_ps_r,lens_light_add=lens_light,source_add=source_light,point_source_add=source_light)\n",
    "    image_r = imSim_r.image(kwargs_lens, kwargs_source_i, kwargs_lens_light_i, kwargs_ps_i,lens_light_add=lens_light,source_add=source_light,point_source_add=source_light)\n",
    "\n",
    "    # add noise\n",
    "    # image_b += sim_b.noise_for_model(model=image_b)\n",
    "    # image_g += sim_g.noise_for_model(model=image_g)\n",
    "    # image_r += sim_r.noise_for_model(model=image_r)\n",
    "\n",
    "    # and plot it\n",
    "\n",
    "    img = np.zeros((image_g.shape[0], image_g.shape[1], 3), dtype=float)\n",
    "    scale_max=0.1\n",
    "    def _scale_max(image): \n",
    "        flat=image.flatten()\n",
    "        flat.sort()\n",
    "        scale_max = flat[int(len(flat)*0.95)]\n",
    "        return scale_max\n",
    "    img[:,:,0] = plot_util.sqrt(image_b, scale_min=0, scale_max=scale_max)\n",
    "    img[:,:,1] = plot_util.sqrt(image_g, scale_min=0, scale_max=scale_max)\n",
    "    img[:,:,2] = plot_util.sqrt(image_r, scale_min=0, scale_max=scale_max)\n",
    "    data_class = sim_b.data_class\n",
    "    return img\n",
    "\n",
    "def simulate_vis(ConfigList, size, kwargs_numerics):\n",
    "    kwargs_vis = ConfigList[0].kwargs_single_band()\n",
    "    \n",
    "    # set number of pixels from pixel scale\n",
    "    pixel_scale = kwargs_vis['pixel_scale']\n",
    "    numpix = int(round(size / pixel_scale))\n",
    "\n",
    "    sim_vis = SimAPI(numpix=numpix, kwargs_single_band=kwargs_vis, kwargs_model=kwargs_model)\n",
    "\n",
    "    # return the ImSim instance. With this class instance, you can compute all the\n",
    "    # modelling accessible of the core modules. See class documentation and other notebooks.\n",
    "    imSim_vis = sim_vis.image_model_class(kwargs_numerics)\n",
    "\n",
    "\n",
    "    # turn magnitude kwargs into lenstronomy kwargs\n",
    "    kwargs_lens_light_vis, kwargs_source_vis, kwargs_ps_vis = sim_vis.magnitude2amplitude(kwargs_lens_light_mag_g, kwargs_source_mag_g, kwargs_ps_mag_g)\n",
    "\n",
    "\n",
    "    image_vis = imSim_vis.image(kwargs_lens, kwargs_source_vis, kwargs_lens_light_vis, kwargs_ps_vis)\n",
    "\n",
    "\n",
    "\n",
    "    # add noise\n",
    "    image_vis += sim_vis.noise_for_model(model=image_vis)\n",
    "\n",
    "    # and plot it\n",
    "\n",
    "    img = np.zeros((image_vis.shape[0], image_vis.shape[1], 1), dtype=float)\n",
    "    \n",
    "    #scale_max=10000\n",
    "    def _scale_max(image): \n",
    "        flat=image.flatten()\n",
    "        flat.sort()\n",
    "        scale_max = flat[int(len(flat)*0.99)]\n",
    "        return scale_max\n",
    "    img = plot_util.sqrt(image_vis, scale_min=0, scale_max=_scale_max(image_vis))\n",
    "    data_class = sim_vis.data_class\n",
    "    return img, data_class\n",
    "\n"
   ]
  },
  {
   "cell_type": "code",
   "execution_count": 3,
   "id": "0b02339b-63f8-4689-b045-62538d10482c",
   "metadata": {
    "tags": []
   },
   "outputs": [],
   "source": [
    "from lenstronomy.SimulationAPI.ObservationConfig.Euclid import Euclid\n",
    "\n",
    "Euclid_VIS = Euclid(band='VIS', psf_type='GAUSSIAN', coadd_years=6)\n",
    "euclid = [Euclid_VIS]"
   ]
  },
  {
   "cell_type": "code",
   "execution_count": 4,
   "id": "e4343729-d60e-40ec-8fb9-2c2476b4e4e3",
   "metadata": {
    "tags": []
   },
   "outputs": [],
   "source": [
    "from lenstronomy.SimulationAPI.ObservationConfig.Roman import Roman\n",
    "\n",
    "Roman_g = Roman(band='F062', psf_type='PIXEL', survey_mode='wide_area')\n",
    "Roman_r = Roman(band='F106', psf_type='PIXEL', survey_mode='wide_area')\n",
    "Roman_i = Roman(band='F184', psf_type='PIXEL', survey_mode='wide_area')\n",
    "roman = [Roman_g, Roman_r, Roman_i]"
   ]
  },
  {
   "cell_type": "code",
   "execution_count": 5,
   "id": "bc657f3b-bdc1-4236-bc46-0054eb658a49",
   "metadata": {
    "tags": []
   },
   "outputs": [],
   "source": [
    "def compl_sim(lra,ldec,sra,sdec,lens_light,source_light=True,ps_light=False):\n",
    "    kwargs_model = {'lens_model_list': ['SIE','SIE','SHEAR'],# list of lens models to be used\n",
    "                    'lens_redshift_list': [0.636,0.386,0.636],\n",
    "                    'z_source': 2.597,\n",
    "                    'lens_light_model_list': ['SERSIC_ELLIPSE'],  # list of unlensed light models to be used\n",
    "                    'source_light_model_list': ['SERSIC'],  # list of extended source models to be used, here we used the interpolated real galaxy\n",
    "    }\n",
    "    # e1,e2 = param_util.phi_q2_ellipticity(q=q,phi=p)\n",
    "    e1,e2 =  -0.365,-0.486\n",
    "    kwargs_lens = [\n",
    "    {'theta_E': 2.520, 'center_x': lra, 'center_y': ldec, 'e1':e1 , 'e2':e2 },\n",
    "    {'theta_E': 0.261, 'center_x': 1.836, 'center_y': -1.563, 'e1':0.662 , 'e2':0.304 },#,'gamma':1.8},  # SIE model\n",
    "    {'gamma1':-0.008,'gamma2':-0.038}]\n",
    "    # lens light\n",
    "    kwargs_lens_light_mag_g = [{'magnitude': 24, 'R_sersic': 1.06, 'n_sersic': 1.54, 'center_x': lra+0.031, 'center_y': ldec+0.019,'e1':0.058,'e2':-0.159}]\n",
    "    # source light\n",
    "    kwargs_source_mag_g = [{'magnitude': 28, 'center_x': sra, 'center_y': sdec,'R_sersic': 0.1, 'n_sersic': 2}]\n",
    "    # point source\n",
    "    kwargs_ps_mag_g = [{'magnitude': 18, 'ra_source': 0, 'dec_source': 0}]\n",
    "\n",
    "    numpix = 1024  # number of pixels per axis of the image to be modelled\n",
    "\n",
    "    kwargs_numerics = {'point_source_supersampling_factor': 1}\n",
    "\n",
    "    size = 10. # width of the image in units of arc seconds\n",
    "\n",
    "    img_roman = simulate_rgb(roman, size=size, kwargs_numerics=kwargs_numerics,lens_light=lens_light,source_light=source_light,ps_light=ps_light,kwargs_lens_light_mag_g=kwargs_lens_light_mag_g,kwargs_source_mag_g=kwargs_source_mag_g,kwargs_ps_mag_g=kwargs_ps_mag_g,kwargs_model=kwargs_model,kwargs_lens=kwargs_lens,sec_lens=False)\n",
    "    return img_roman"
   ]
  },
  {
   "cell_type": "code",
   "execution_count": 6,
   "id": "f54f21ab-b363-4fc1-88af-11bf18d0e91c",
   "metadata": {
    "tags": []
   },
   "outputs": [],
   "source": [
    "def addlens(lra,ldec,sra,sdec,lens_light,source_light=False,ps_light=False):\n",
    "    kwargs_model = {'lens_model_list': ['SIE','SIE','SHEAR'],# list of lens models to be used\n",
    "                    'lens_redshift_list': [0.636,0.386,0.636],\n",
    "                    'z_source': 2.597,\n",
    "                    'lens_light_model_list': ['SERSIC'],  # list of unlensed light models to be used\n",
    "                    'source_light_model_list': ['SERSIC'],  # list of extended source models to be used, here we used the interpolated real galaxy\n",
    "    }\n",
    "    # e1,e2 = param_util.phi_q2_ellipticity(q=q,phi=p)\n",
    "    e1,e2 =  -0.365,-0.486\n",
    "    kwargs_lens = [\n",
    "    {'theta_E': 2.520, 'center_x': -0.115, 'center_y': -0.207, 'e1':e1 , 'e2':e2 },\n",
    "    {'theta_E': 0.261, 'center_x': 1.836, 'center_y': -1.563, 'e1':0.662 , 'e2':0.304 },#,'gamma':1.8},  # SIE model\n",
    "    {'gamma1':-0.008,'gamma2':-0.038}]\n",
    "    # lens light\n",
    "    kwargs_lens_light_mag_g = [{'magnitude': 28, 'R_sersic': 0.28, 'n_sersic': 1.13, 'center_x': lra-0.6, 'center_y': ldec}]\n",
    "    # source light\n",
    "    kwargs_source_mag_g = [{'magnitude': 28, 'center_x': sra, 'center_y': sdec,'R_sersic': 0.28, 'n_sersic': 1.12}]\n",
    "    # point source\n",
    "    kwargs_ps_mag_g = [{'magnitude': 18, 'ra_source': 0, 'dec_source': 0}]\n",
    "\n",
    "    numpix = 1024  # number of pixels per axis of the image to be modelled\n",
    "\n",
    "    kwargs_numerics = {'point_source_supersampling_factor': 1}\n",
    "\n",
    "    size = 10. # width of the image in units of arc seconds\n",
    "\n",
    "    img_roman = simulate_rgb(roman, size=size, kwargs_numerics=kwargs_numerics,lens_light=lens_light,source_light=source_light,ps_light=ps_light,kwargs_lens_light_mag_g=kwargs_lens_light_mag_g,kwargs_source_mag_g=kwargs_source_mag_g,kwargs_ps_mag_g=kwargs_ps_mag_g,kwargs_model=kwargs_model,kwargs_lens=kwargs_lens,sec_lens=True)\n",
    "    return img_roman"
   ]
  },
  {
   "cell_type": "code",
   "execution_count": 7,
   "id": "332971b6-1d1c-452d-82c5-1a07f14b2c79",
   "metadata": {
    "tags": []
   },
   "outputs": [
    {
     "data": {
      "text/plain": [
       "-75.78643903636488"
      ]
     },
     "execution_count": 7,
     "metadata": {},
     "output_type": "execute_result"
    }
   ],
   "source": [
    "np.rad2deg(param_util.ellipticity2phi_q(-0.365,-0.486)[0])-np.rad2deg(param_util.ellipticity2phi_q(0.662,0.304)[0])\n"
   ]
  },
  {
   "cell_type": "code",
   "execution_count": 8,
   "id": "c45d4a40-0d32-4d8d-be55-46f9352f1c5d",
   "metadata": {
    "tags": []
   },
   "outputs": [],
   "source": [
    "import numpy as np\n",
    "from matplotlib.animation import FuncAnimation\n",
    "from IPython import display\n",
    "import matplotlib.pyplot as plt\n",
    "from lenstronomy.Plots.plot_util import coordinate_arrows, scale_bar\n"
   ]
  },
  {
   "cell_type": "code",
   "execution_count": 9,
   "id": "8edad764-3706-4b80-8550-d26890f68d77",
   "metadata": {
    "tags": []
   },
   "outputs": [],
   "source": [
    "def AnimationFunction(frame): \n",
    " \n",
    "    # setting y according to frame\n",
    "    # number and + x. It's logic\n",
    "    y = np.cos(x+2*np.pi*frame/100) \n",
    " \n",
    "    # line is set with new values of x and y\n",
    "    line_plotted.set_data((x, y))"
   ]
  },
  {
   "cell_type": "code",
   "execution_count": 11,
   "id": "a5469ffe-3a67-474a-a327-b94b210e1ca0",
   "metadata": {
    "tags": []
   },
   "outputs": [
    {
     "name": "stderr",
     "output_type": "stream",
     "text": [
      "Clipping input data to the valid range for imshow with RGB data ([0..1] for floats or [0..255] for integers).\n"
     ]
    },
    {
     "name": "stdout",
     "output_type": "stream",
     "text": [
      "0.312669686152437\n"
     ]
    },
    {
     "data": {
      "image/png": "[encoded data removed]",
      "text/plain": [
       "<Figure size 640x480 with 1 Axes>"
      ]
     },
     "metadata": {},
     "output_type": "display_data"
    }
   ],
   "source": [
    "img = compl_sim(-0.115,-0.207,0,0,True)\n",
    "img2 = addlens(1.836,-1.563,0,0,True)\n",
    "plt.imshow(img+img2, aspect='equal', origin='lower', extent=[0, 16, 0, 16])\n",
    "# plt.gca().invert_xaxis()\n",
    "print(np.max(img2))"
   ]
  },
  {
   "cell_type": "code",
   "execution_count": 11,
   "id": "79a5dbbd-63ad-4296-bf2c-6b5032f32681",
   "metadata": {},
   "outputs": [
    {
     "data": {
      "text/plain": [
       "-0.999193832443238"
      ]
     },
     "execution_count": 11,
     "metadata": {},
     "output_type": "execute_result"
    }
   ],
   "source": [
    "(img2-img).min()"
   ]
  },
  {
   "cell_type": "code",
   "execution_count": 12,
   "id": "0da20f36-77a2-4887-96fc-65eb3fbdf431",
   "metadata": {},
   "outputs": [],
   "source": [
    "phi = np.linspace(0,2*np.pi,100).tolist()\n",
    "r = np.linspace(0,4,100).tolist()"
   ]
  },
  {
   "cell_type": "code",
   "execution_count": 13,
   "id": "1f5aacb4-5e0a-4b59-9a30-659929874dca",
   "metadata": {},
   "outputs": [],
   "source": [
    "x,y = r*np.cos(phi),r*np.sin(phi)\n",
    "y = [0]*100\n",
    "x = np.sqrt(2)**-1*np.array(np.linspace(0,-2.5,25).tolist()+np.linspace(-2.5,0,25).tolist()+np.linspace(0,2.5,25).tolist()+np.linspace(2.5,0,25).tolist())\n",
    "# x = [0]*100\n",
    "y = np.sqrt(2)**-1*np.array(np.linspace(0,-2.5,25).tolist()+np.linspace(-2.5,0,25).tolist()+np.linspace(0,2.5,25).tolist()+np.linspace(2.5,0,25).tolist())"
   ]
  },
  {
   "cell_type": "code",
   "execution_count": 14,
   "id": "46180c52-6ac3-4a6d-91e8-24b0284af737",
   "metadata": {},
   "outputs": [
    {
     "data": {
      "text/plain": [
       "8"
      ]
     },
     "execution_count": 14,
     "metadata": {},
     "output_type": "execute_result"
    },
    {
     "data": {
      "image/png": "[encoded data removed]",
      "text/plain": [
       "<Figure size 640x480 with 1 Axes>"
      ]
     },
     "metadata": {},
     "output_type": "display_data"
    }
   ],
   "source": [
    "from scipy.interpolate import interp1d\n",
    "x,y=np.random.uniform(-np.sqrt(2)*1.5,np.sqrt(2)*1.5,8).tolist(),np.random.uniform(-np.sqrt(2)*1.5,np.sqrt(2)*1.5,8).tolist()\n",
    "# x1,y1=np.random.normal(0,1,8).tolist(),np.random.normal(0,1,8).tolist()\n",
    "\n",
    "fun = interp1d(x=x, y=y, kind=2)\n",
    "x2 = x\n",
    "y2 = fun(x2)\n",
    "plt.scatter(x,y)\n",
    "# plt.scatter(x1,y1)\n",
    "plt.xlim(-3,3)\n",
    "plt.ylim(-3,3)\n",
    "\n",
    "# plt.plot(x2,y2)\n",
    "len(x2)"
   ]
  },
  {
   "cell_type": "code",
   "execution_count": 15,
   "id": "159ad357-d6a5-484f-8201-46890fe5a300",
   "metadata": {},
   "outputs": [],
   "source": [
    "x.append(0)\n",
    "y.append(0)\n",
    "# x.append(0)\n",
    "# y.append(0)"
   ]
  },
  {
   "cell_type": "code",
   "execution_count": 16,
   "id": "d763b28f-eb06-48cc-a41d-a3b2cbd6402e",
   "metadata": {},
   "outputs": [
    {
     "name": "stdout",
     "output_type": "stream",
     "text": [
      "0 -0.3503534943718871 -1.1878123359074162\n",
      "[-1.71334877 -1.54653742 -1.37972608 -1.21291473 -1.04610339 -0.87929204\n",
      " -0.7124807  -0.54566935 -0.37885801 -0.21204666 -0.04523532  0.12157603\n",
      "  0.28838737  0.45519872  0.62201006  0.78882141  0.95563275  1.1224441\n",
      "  1.28925544  1.45606679  1.62287813  1.78968948]\n",
      "1 -0.042168120000577916 -1.7393684578236406\n",
      "[1.78968948 1.59843112 1.40717277 1.21591441 1.02465606 0.8333977\n",
      " 0.64213935 0.45088099 0.25962264 0.06836428]\n",
      "2 0.3062138074183914 -1.76318533782522\n",
      "[ 0.06836428 -0.21096543 -0.49029515]\n",
      "3 -1.783017026956838 -2.787525082595759\n",
      "[-0.49029515 -0.58138303 -0.67247091 -0.76355879 -0.85464667 -0.94573455\n",
      " -1.03682243 -1.12791032 -1.2189982  -1.31008608 -1.40117396 -1.49226184\n",
      " -1.58334972 -1.6744376 ]\n",
      "4 0.24274571453033414 0.6044882216329842\n",
      "[-1.6744376  -1.48418082 -1.29392404 -1.10366727 -0.91341049 -0.72315371\n",
      " -0.53289693 -0.34264015 -0.15238338  0.0378734   0.22813018]\n",
      "5 2.708410794738172 0.04199560175942896\n",
      "[ 0.22813018  0.16332205  0.09851392  0.03370579 -0.03110234 -0.09591047\n",
      " -0.1607186  -0.22552672 -0.29033485 -0.35514298]\n",
      "6 0.3118537346573338 -0.8091248220809362\n",
      "[-0.35514298 -0.1758345   0.00347399  0.18278248  0.36209097  0.54139946\n",
      "  0.72070794  0.90001643  1.07932492  1.25863341  1.4379419   1.61725039\n",
      "  1.79655887]\n",
      "7 -0.13852105358347203 2.7755575615628914e-17\n",
      "[1.79655887 1.59694122 1.39732357 1.19770592 0.99808826 0.79847061\n",
      " 0.59885296 0.39923531 0.19961765 0.        ]\n"
     ]
    },
    {
     "data": {
      "image/png": "[encoded data removed]",
      "text/plain": [
       "<Figure size 640x480 with 1 Axes>"
      ]
     },
     "metadata": {},
     "output_type": "display_data"
    }
   ],
   "source": [
    "fx,fy = [],[]\n",
    "for i in range(len(x)):\n",
    "    # print(x[i],y[i])\n",
    "    if i>=len(x)-1:\n",
    "        break\n",
    "    m = (y[i+1]-y[i])/(x[i+1]-x[i])\n",
    "    b = y[i]-(m*x[i])\n",
    "    dist = np.sqrt((x[i+1]-x[i])**2+(y[i+1]-y[i])**2)*6\n",
    "    plt.plot(np.linspace(x[i],x[i+1],int(dist)),(np.linspace(x[i],x[i+1],int(dist))*m)+b)\n",
    "    plt.scatter(x[i:i+2],y[i:i+2],color='red')\n",
    "    plt.text(x[i],y[i],str(i))\n",
    "    print(i,m,b)\n",
    "    tx,ty = np.linspace(x[i],x[i+1],int(dist)),(np.linspace(x[i],x[i+1],int(dist))*m)+b\n",
    "    print(tx)\n",
    "    fx.append(tx)\n",
    "    fy.append(ty)    "
   ]
  },
  {
   "cell_type": "code",
   "execution_count": 17,
   "id": "2759d6ad-d4a2-49c3-a4b4-d94abf43a828",
   "metadata": {},
   "outputs": [],
   "source": [
    "ffx = np.array([val for sublist in fx for val in sublist])\n",
    "ffy = np.array([val for sublist in fy for val in sublist])"
   ]
  },
  {
   "cell_type": "code",
   "execution_count": 18,
   "id": "6b37e887-e4eb-4ac1-b4f0-f6bf59879f65",
   "metadata": {},
   "outputs": [
    {
     "data": {
      "text/plain": [
       "array([1.79655887, 1.59694122, 1.39732357, 1.19770592, 0.99808826,\n",
       "       0.79847061, 0.59885296, 0.39923531, 0.19961765, 0.        ])"
      ]
     },
     "execution_count": 18,
     "metadata": {},
     "output_type": "execute_result"
    }
   ],
   "source": [
    "fx[-1]"
   ]
  },
  {
   "cell_type": "code",
   "execution_count": 19,
   "id": "6fe0fe02-2f5c-4db4-9aa8-8e69f06ccd59",
   "metadata": {},
   "outputs": [],
   "source": [
    "import warnings\n",
    "warnings.filterwarnings(\"ignore\")"
   ]
  },
  {
   "cell_type": "code",
   "execution_count": 20,
   "id": "1bf2afc0-5db5-4587-ad97-2561311dd349",
   "metadata": {
    "collapsed": true,
    "jupyter": {
     "outputs_hidden": true
    },
    "tags": []
   },
   "outputs": [
    {
     "name": "stderr",
     "output_type": "stream",
     "text": [
      "Clipping input data to the valid range for imshow with RGB data ([0..1] for floats or [0..255] for integers).\n"
     ]
    },
    {
     "ename": "FileNotFoundError",
     "evalue": "[Errno 2] No such file or directory: '/Users/christopherstorfer/Downloads/lenstronomy-tutorials/Notebooks/Simulations/figs/giga-exp/giga-exp_sim000.jpeg'",
     "output_type": "error",
     "traceback": [
      "\u001b[0;31m---------------------------------------------------------------------------\u001b[0m",
      "\u001b[0;31mFileNotFoundError\u001b[0m                         Traceback (most recent call last)",
      "Cell \u001b[0;32mIn[20], line 19\u001b[0m\n\u001b[1;32m     17\u001b[0m ax\u001b[39m.\u001b[39mset_yticks([])\n\u001b[1;32m     18\u001b[0m plt\u001b[39m.\u001b[39mtight_layout()\n\u001b[0;32m---> 19\u001b[0m plt\u001b[39m.\u001b[39;49msavefig(\u001b[39m'\u001b[39;49m\u001b[39m/Users/christopherstorfer/Downloads/lenstronomy-tutorials/Notebooks/Simulations/figs/giga-exp/giga-exp_sim\u001b[39;49m\u001b[39m{:03d}\u001b[39;49;00m\u001b[39m.jpeg\u001b[39;49m\u001b[39m'\u001b[39;49m\u001b[39m.\u001b[39;49mformat(i))\n\u001b[1;32m     20\u001b[0m \u001b[39mif\u001b[39;00m i\u001b[39m==\u001b[39m\u001b[39mlen\u001b[39m(ffx)\u001b[39m-\u001b[39m\u001b[39m1\u001b[39m:\n\u001b[1;32m     21\u001b[0m     \u001b[39mfor\u001b[39;00m j \u001b[39min\u001b[39;00m \u001b[39mrange\u001b[39m(\u001b[39m100\u001b[39m):\n",
      "File \u001b[0;32m~/miniconda3/envs/lenstronomy/lib/python3.11/site-packages/matplotlib/pyplot.py:1119\u001b[0m, in \u001b[0;36msavefig\u001b[0;34m(*args, **kwargs)\u001b[0m\n\u001b[1;32m   1116\u001b[0m fig \u001b[39m=\u001b[39m gcf()\n\u001b[1;32m   1117\u001b[0m \u001b[39m# savefig default implementation has no return, so mypy is unhappy\u001b[39;00m\n\u001b[1;32m   1118\u001b[0m \u001b[39m# presumably this is here because subclasses can return?\u001b[39;00m\n\u001b[0;32m-> 1119\u001b[0m res \u001b[39m=\u001b[39m fig\u001b[39m.\u001b[39;49msavefig(\u001b[39m*\u001b[39;49margs, \u001b[39m*\u001b[39;49m\u001b[39m*\u001b[39;49mkwargs)  \u001b[39m# type: ignore[func-returns-value]\u001b[39;00m\n\u001b[1;32m   1120\u001b[0m fig\u001b[39m.\u001b[39mcanvas\u001b[39m.\u001b[39mdraw_idle()  \u001b[39m# Need this if 'transparent=True', to reset colors.\u001b[39;00m\n\u001b[1;32m   1121\u001b[0m \u001b[39mreturn\u001b[39;00m res\n",
      "File \u001b[0;32m~/miniconda3/envs/lenstronomy/lib/python3.11/site-packages/matplotlib/figure.py:3390\u001b[0m, in \u001b[0;36mFigure.savefig\u001b[0;34m(self, fname, transparent, **kwargs)\u001b[0m\n\u001b[1;32m   3388\u001b[0m     \u001b[39mfor\u001b[39;00m ax \u001b[39min\u001b[39;00m \u001b[39mself\u001b[39m\u001b[39m.\u001b[39maxes:\n\u001b[1;32m   3389\u001b[0m         _recursively_make_axes_transparent(stack, ax)\n\u001b[0;32m-> 3390\u001b[0m \u001b[39mself\u001b[39;49m\u001b[39m.\u001b[39;49mcanvas\u001b[39m.\u001b[39;49mprint_figure(fname, \u001b[39m*\u001b[39;49m\u001b[39m*\u001b[39;49mkwargs)\n",
      "File \u001b[0;32m~/miniconda3/envs/lenstronomy/lib/python3.11/site-packages/matplotlib/backend_bases.py:2187\u001b[0m, in \u001b[0;36mFigureCanvasBase.print_figure\u001b[0;34m(self, filename, dpi, facecolor, edgecolor, orientation, format, bbox_inches, pad_inches, bbox_extra_artists, backend, **kwargs)\u001b[0m\n\u001b[1;32m   2183\u001b[0m \u001b[39mtry\u001b[39;00m:\n\u001b[1;32m   2184\u001b[0m     \u001b[39m# _get_renderer may change the figure dpi (as vector formats\u001b[39;00m\n\u001b[1;32m   2185\u001b[0m     \u001b[39m# force the figure dpi to 72), so we need to set it again here.\u001b[39;00m\n\u001b[1;32m   2186\u001b[0m     \u001b[39mwith\u001b[39;00m cbook\u001b[39m.\u001b[39m_setattr_cm(\u001b[39mself\u001b[39m\u001b[39m.\u001b[39mfigure, dpi\u001b[39m=\u001b[39mdpi):\n\u001b[0;32m-> 2187\u001b[0m         result \u001b[39m=\u001b[39m print_method(\n\u001b[1;32m   2188\u001b[0m             filename,\n\u001b[1;32m   2189\u001b[0m             facecolor\u001b[39m=\u001b[39;49mfacecolor,\n\u001b[1;32m   2190\u001b[0m             edgecolor\u001b[39m=\u001b[39;49medgecolor,\n\u001b[1;32m   2191\u001b[0m             orientation\u001b[39m=\u001b[39;49morientation,\n\u001b[1;32m   2192\u001b[0m             bbox_inches_restore\u001b[39m=\u001b[39;49m_bbox_inches_restore,\n\u001b[1;32m   2193\u001b[0m             \u001b[39m*\u001b[39;49m\u001b[39m*\u001b[39;49mkwargs)\n\u001b[1;32m   2194\u001b[0m \u001b[39mfinally\u001b[39;00m:\n\u001b[1;32m   2195\u001b[0m     \u001b[39mif\u001b[39;00m bbox_inches \u001b[39mand\u001b[39;00m restore_bbox:\n",
      "File \u001b[0;32m~/miniconda3/envs/lenstronomy/lib/python3.11/site-packages/matplotlib/backend_bases.py:2043\u001b[0m, in \u001b[0;36mFigureCanvasBase._switch_canvas_and_return_print_method.<locals>.<lambda>\u001b[0;34m(*args, **kwargs)\u001b[0m\n\u001b[1;32m   2039\u001b[0m     optional_kws \u001b[39m=\u001b[39m {  \u001b[39m# Passed by print_figure for other renderers.\u001b[39;00m\n\u001b[1;32m   2040\u001b[0m         \u001b[39m\"\u001b[39m\u001b[39mdpi\u001b[39m\u001b[39m\"\u001b[39m, \u001b[39m\"\u001b[39m\u001b[39mfacecolor\u001b[39m\u001b[39m\"\u001b[39m, \u001b[39m\"\u001b[39m\u001b[39medgecolor\u001b[39m\u001b[39m\"\u001b[39m, \u001b[39m\"\u001b[39m\u001b[39morientation\u001b[39m\u001b[39m\"\u001b[39m,\n\u001b[1;32m   2041\u001b[0m         \u001b[39m\"\u001b[39m\u001b[39mbbox_inches_restore\u001b[39m\u001b[39m\"\u001b[39m}\n\u001b[1;32m   2042\u001b[0m     skip \u001b[39m=\u001b[39m optional_kws \u001b[39m-\u001b[39m {\u001b[39m*\u001b[39minspect\u001b[39m.\u001b[39msignature(meth)\u001b[39m.\u001b[39mparameters}\n\u001b[0;32m-> 2043\u001b[0m     print_method \u001b[39m=\u001b[39m functools\u001b[39m.\u001b[39mwraps(meth)(\u001b[39mlambda\u001b[39;00m \u001b[39m*\u001b[39margs, \u001b[39m*\u001b[39m\u001b[39m*\u001b[39mkwargs: meth(\n\u001b[1;32m   2044\u001b[0m         \u001b[39m*\u001b[39;49margs, \u001b[39m*\u001b[39;49m\u001b[39m*\u001b[39;49m{k: v \u001b[39mfor\u001b[39;49;00m k, v \u001b[39min\u001b[39;49;00m kwargs\u001b[39m.\u001b[39;49mitems() \u001b[39mif\u001b[39;49;00m k \u001b[39mnot\u001b[39;49;00m \u001b[39min\u001b[39;49;00m skip}))\n\u001b[1;32m   2045\u001b[0m \u001b[39melse\u001b[39;00m:  \u001b[39m# Let third-parties do as they see fit.\u001b[39;00m\n\u001b[1;32m   2046\u001b[0m     print_method \u001b[39m=\u001b[39m meth\n",
      "File \u001b[0;32m~/miniconda3/envs/lenstronomy/lib/python3.11/site-packages/matplotlib/backends/backend_agg.py:514\u001b[0m, in \u001b[0;36mFigureCanvasAgg.print_jpg\u001b[0;34m(self, filename_or_obj, metadata, pil_kwargs)\u001b[0m\n\u001b[1;32m    509\u001b[0m \u001b[39mdef\u001b[39;00m \u001b[39mprint_jpg\u001b[39m(\u001b[39mself\u001b[39m, filename_or_obj, \u001b[39m*\u001b[39m, metadata\u001b[39m=\u001b[39m\u001b[39mNone\u001b[39;00m, pil_kwargs\u001b[39m=\u001b[39m\u001b[39mNone\u001b[39;00m):\n\u001b[1;32m    510\u001b[0m     \u001b[39m# savefig() has already applied savefig.facecolor; we now set it to\u001b[39;00m\n\u001b[1;32m    511\u001b[0m     \u001b[39m# white to make imsave() blend semi-transparent figures against an\u001b[39;00m\n\u001b[1;32m    512\u001b[0m     \u001b[39m# assumed white background.\u001b[39;00m\n\u001b[1;32m    513\u001b[0m     \u001b[39mwith\u001b[39;00m mpl\u001b[39m.\u001b[39mrc_context({\u001b[39m\"\u001b[39m\u001b[39msavefig.facecolor\u001b[39m\u001b[39m\"\u001b[39m: \u001b[39m\"\u001b[39m\u001b[39mwhite\u001b[39m\u001b[39m\"\u001b[39m}):\n\u001b[0;32m--> 514\u001b[0m         \u001b[39mself\u001b[39;49m\u001b[39m.\u001b[39;49m_print_pil(filename_or_obj, \u001b[39m\"\u001b[39;49m\u001b[39mjpeg\u001b[39;49m\u001b[39m\"\u001b[39;49m, pil_kwargs, metadata)\n",
      "File \u001b[0;32m~/miniconda3/envs/lenstronomy/lib/python3.11/site-packages/matplotlib/backends/backend_agg.py:446\u001b[0m, in \u001b[0;36mFigureCanvasAgg._print_pil\u001b[0;34m(self, filename_or_obj, fmt, pil_kwargs, metadata)\u001b[0m\n\u001b[1;32m    441\u001b[0m \u001b[39m\u001b[39m\u001b[39m\"\"\"\u001b[39;00m\n\u001b[1;32m    442\u001b[0m \u001b[39mDraw the canvas, then save it using `.image.imsave` (to which\u001b[39;00m\n\u001b[1;32m    443\u001b[0m \u001b[39m*pil_kwargs* and *metadata* are forwarded).\u001b[39;00m\n\u001b[1;32m    444\u001b[0m \u001b[39m\"\"\"\u001b[39;00m\n\u001b[1;32m    445\u001b[0m FigureCanvasAgg\u001b[39m.\u001b[39mdraw(\u001b[39mself\u001b[39m)\n\u001b[0;32m--> 446\u001b[0m mpl\u001b[39m.\u001b[39;49mimage\u001b[39m.\u001b[39;49mimsave(\n\u001b[1;32m    447\u001b[0m     filename_or_obj, \u001b[39mself\u001b[39;49m\u001b[39m.\u001b[39;49mbuffer_rgba(), \u001b[39mformat\u001b[39;49m\u001b[39m=\u001b[39;49mfmt, origin\u001b[39m=\u001b[39;49m\u001b[39m\"\u001b[39;49m\u001b[39mupper\u001b[39;49m\u001b[39m\"\u001b[39;49m,\n\u001b[1;32m    448\u001b[0m     dpi\u001b[39m=\u001b[39;49m\u001b[39mself\u001b[39;49m\u001b[39m.\u001b[39;49mfigure\u001b[39m.\u001b[39;49mdpi, metadata\u001b[39m=\u001b[39;49mmetadata, pil_kwargs\u001b[39m=\u001b[39;49mpil_kwargs)\n",
      "File \u001b[0;32m~/miniconda3/envs/lenstronomy/lib/python3.11/site-packages/matplotlib/image.py:1656\u001b[0m, in \u001b[0;36mimsave\u001b[0;34m(fname, arr, vmin, vmax, cmap, format, origin, dpi, metadata, pil_kwargs)\u001b[0m\n\u001b[1;32m   1654\u001b[0m pil_kwargs\u001b[39m.\u001b[39msetdefault(\u001b[39m\"\u001b[39m\u001b[39mformat\u001b[39m\u001b[39m\"\u001b[39m, \u001b[39mformat\u001b[39m)\n\u001b[1;32m   1655\u001b[0m pil_kwargs\u001b[39m.\u001b[39msetdefault(\u001b[39m\"\u001b[39m\u001b[39mdpi\u001b[39m\u001b[39m\"\u001b[39m, (dpi, dpi))\n\u001b[0;32m-> 1656\u001b[0m image\u001b[39m.\u001b[39;49msave(fname, \u001b[39m*\u001b[39;49m\u001b[39m*\u001b[39;49mpil_kwargs)\n",
      "File \u001b[0;32m~/miniconda3/envs/lenstronomy/lib/python3.11/site-packages/PIL/Image.py:2435\u001b[0m, in \u001b[0;36mImage.save\u001b[0;34m(self, fp, format, **params)\u001b[0m\n\u001b[1;32m   2433\u001b[0m         fp \u001b[39m=\u001b[39m builtins\u001b[39m.\u001b[39mopen(filename, \u001b[39m\"\u001b[39m\u001b[39mr+b\u001b[39m\u001b[39m\"\u001b[39m)\n\u001b[1;32m   2434\u001b[0m     \u001b[39melse\u001b[39;00m:\n\u001b[0;32m-> 2435\u001b[0m         fp \u001b[39m=\u001b[39m builtins\u001b[39m.\u001b[39;49mopen(filename, \u001b[39m\"\u001b[39;49m\u001b[39mw+b\u001b[39;49m\u001b[39m\"\u001b[39;49m)\n\u001b[1;32m   2437\u001b[0m \u001b[39mtry\u001b[39;00m:\n\u001b[1;32m   2438\u001b[0m     save_handler(\u001b[39mself\u001b[39m, fp, filename)\n",
      "\u001b[0;31mFileNotFoundError\u001b[0m: [Errno 2] No such file or directory: '/Users/christopherstorfer/Downloads/lenstronomy-tutorials/Notebooks/Simulations/figs/giga-exp/giga-exp_sim000.jpeg'"
     ]
    },
    {
     "data": {
      "image/png": "[encoded data removed]",
      "text/plain": [
       "<Figure size 400x400 with 1 Axes>"
      ]
     },
     "metadata": {},
     "output_type": "display_data"
    }
   ],
   "source": [
    "size=10\n",
    "for i,(ra,dec) in enumerate(zip(ffx,ffy)):\n",
    "\n",
    "    sra,sdec = 0,0\n",
    "    # img = compl_sim(lra,ldec,sra,sdec,False)\n",
    "\n",
    "    f, axes = plt.subplots(figsize=(4, 4))\n",
    "    ax = axes\n",
    "    img1 = compl_sim(-0.115,-0.207,ra,dec,True)\n",
    "    img2 = addlens(1.836,-1.563,ra,dec,True)\n",
    "    img = img1+img2\n",
    "    ax.imshow(img, aspect='equal', origin='lower', extent=[0, size, 0, size])\n",
    "    ax.scatter(ra+(size/2),dec+(size/2),marker='*',color='white',s=200,alpha=0.5,ec='black')\n",
    "    # ax.scatter(lra+(size/2),ldec+(size/2),marker='x',color='red',s=50,alpha=0.5,ec='red')\n",
    "\n",
    "    ax.set_xticks([])\n",
    "    ax.set_yticks([])\n",
    "    plt.tight_layout()\n",
    "    plt.savefig('/Users/christopherstorfer/Downloads/lenstronomy-tutorials/Notebooks/Simulations/figs/giga-exp/giga-exp_sim{:03d}.jpeg'.format(i))\n",
    "    if i==len(ffx)-1:\n",
    "        for j in range(100):\n",
    "            plt.savefig('/Users/christopherstorfer/Downloads/lenstronomy-tutorials/Notebooks/Simulations/figs/giga-exp/giga-exp_sim{:03d}.jpeg'.format(j+i))"
   ]
  },
  {
   "cell_type": "code",
   "execution_count": null,
   "id": "3c00bc1a-d94c-464c-8168-22f500b42a07",
   "metadata": {},
   "outputs": [],
   "source": [
    "!convert /Users/christopherstorfer/Downloads/lenstronomy-tutorials/Notebooks/Simulations/figs/giga-exp/*.jpeg -delay 300 /Users/christopherstorfer/Downloads/lenstronomy-tutorials/Notebooks/Simulations/figs/giga-exp/giga-exp_sim226.jpeg test_gif.gif"
   ]
  },
  {
   "cell_type": "code",
   "execution_count": null,
   "id": "7653e80d-cae3-4dcf-bff9-996693148477",
   "metadata": {},
   "outputs": [],
   "source": []
  }
 ],
 "metadata": {
  "kernelspec": {
   "display_name": "JAX GIGALENS",
   "language": "python",
   "name": "jax-gigalens-kernel"
  },
  "language_info": {
   "codemirror_mode": {
    "name": "ipython",
    "version": 3
   },
   "file_extension": ".py",
   "mimetype": "text/x-python",
   "name": "python",
   "nbconvert_exporter": "python",
   "pygments_lexer": "ipython3",
   "version": "3.11.9"
  }
 },
 "nbformat": 4,
 "nbformat_minor": 5
}
