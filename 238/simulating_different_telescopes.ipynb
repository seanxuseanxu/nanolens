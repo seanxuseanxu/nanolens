{
 "cells": [
  {
   "cell_type": "markdown",
   "metadata": {},
   "source": [
    "# Simulating different telescopes\n",
    "This notebooks provides examples in how to use the lenstronomy.SimulationAPI modules in simulating (realistic) mock lenses taylored to a specific observation and instrument and makes a montage of different telescope settings currently available.\n",
    "\n",
    "The module enables to use the astronomical magnitude conventions and can translate those into the lenstronomy core module configurations."
   ]
  },
  {
   "cell_type": "code",
   "execution_count": 15,
   "metadata": {
    "tags": []
   },
   "outputs": [],
   "source": [
    "import copy\n",
    "import os\n",
    "import numpy as np\n",
    "import scipy\n",
    "from PIL import Image\n",
    "import matplotlib.pyplot as plt\n",
    "%matplotlib inline\n",
    "\n",
    "# make sure lenstronomy is installed, otherwise install the latest pip version\n",
    "\n",
    "# lenstronomy module import\n",
    "from lenstronomy.Util import image_util, data_util, util\n",
    "import lenstronomy.Plots.plot_util as plot_util\n",
    "from lenstronomy.SimulationAPI.sim_api import SimAPI\n",
    "from lenstronomy.Plots.plot_util import coordinate_arrows, scale_bar\n",
    "from astropy.visualization import simple_norm"
   ]
  },
  {
   "cell_type": "markdown",
   "metadata": {},
   "source": [
    "## Define camera and observations\n",
    "As an example, we define the camera and observational settings of a LSST-like observation. We define one camera setting and three different observations corresponding to g,r,i imaging.\n",
    "\n",
    "For the complete list of possible settings, we refer to the SimulationAPI.observation_api classes. There are pre-configured settings which approximately mimic observations from current and future instruments. Be careful using those and check whether they are sufficiently accurate for your specific science case!"
   ]
  },
  {
   "cell_type": "code",
   "execution_count": 16,
   "metadata": {
    "tags": []
   },
   "outputs": [],
   "source": [
    "# Instrument setting from pre-defined configurations\n",
    "\n",
    "from lenstronomy.SimulationAPI.ObservationConfig.DES import DES\n",
    "from lenstronomy.SimulationAPI.ObservationConfig.LSST import LSST\n",
    "from lenstronomy.SimulationAPI.ObservationConfig.Euclid import Euclid\n",
    "from lenstronomy.SimulationAPI.ObservationConfig.Roman import Roman\n",
    "\n",
    "DES_g = DES(band='g', psf_type='GAUSSIAN', coadd_years=3)\n",
    "DES_r = DES(band='r', psf_type='GAUSSIAN', coadd_years=3)\n",
    "DES_i = DES(band='i', psf_type='GAUSSIAN', coadd_years=3)\n",
    "des = [DES_g, DES_r, DES_i]\n",
    "\n",
    "LSST_g = LSST(band='g', psf_type='GAUSSIAN', coadd_years=10)\n",
    "LSST_r = LSST(band='r', psf_type='GAUSSIAN', coadd_years=10)\n",
    "LSST_i = LSST(band='i', psf_type='GAUSSIAN', coadd_years=10)\n",
    "lsst = [LSST_g, LSST_r, LSST_i]\n",
    "\n",
    "Roman_g = Roman(band='F062', psf_type='PIXEL', survey_mode='wide_area')\n",
    "Roman_r = Roman(band='F106', psf_type='PIXEL', survey_mode='wide_area')\n",
    "Roman_i = Roman(band='F184', psf_type='PIXEL', survey_mode='wide_area')\n",
    "roman = [Roman_g, Roman_r, Roman_i]\n",
    "\n",
    "# lenstronomy provides these setting to be imported with the SimulationAPI.ObservationConfig routines.\n",
    "\n"
   ]
  },
  {
   "cell_type": "markdown",
   "metadata": {},
   "source": [
    "## Define model settings\n",
    "\n",
    "The model settings are handled by the SimulationAPI.model_api ModelAPI class. \n",
    "The role is to return instances of the lenstronomy LightModel, LensModel, PointSource modules according to the options chosen by the user. Currently, all other model choices are equivalent to the ones provided by LightModel, LensModel, PointSource.\n",
    "The current options of the class instance only describe a subset of possibilities and we refer to the specific class instances for details about all the possibilities.\n",
    "\n",
    "For this example, we chose a single lens plane and a single source plane, elliptical Sersic profile for the deflector, the interpolated Galaxy as the source and an additional lensed point source."
   ]
  },
  {
   "cell_type": "code",
   "execution_count": 39,
   "metadata": {
    "tags": []
   },
   "outputs": [],
   "source": [
    "kwargs_model = {'lens_model_list': ['EPL', 'SHEAR'],  # list of lens models to be used\n",
    "                'lens_light_model_list': ['SERSIC_ELLIPSE','SERSIC_ELLIPSE','SERSIC_ELLIPSE'],  # list of unlensed light models to be used\n",
    "                'source_light_model_list': ['SERSIC_ELLIPSE','SERSIC_ELLIPSE'],  # list of extended source models to be used, here we used the interpolated real galaxy\n",
    "    }"
   ]
  },
  {
   "cell_type": "markdown",
   "metadata": {},
   "source": [
    "## Brightness definitions in magnitude space\n",
    "One core feature is the support of light profile amplitudes in astronomical magnitude space (at least for few selected well defined brightness profiles).\n",
    "\n",
    "We first define all parameters in magnitude space and then use the SimAPI routine to translate the arguments into lenstronomy conventions used by the ImSim module. The second model of each light component we defined as 'INTERPOL', which sets an interpolation grid given an image. This can be used to past real galaxies as lenses or sources into lenstronomy."
   ]
  },
  {
   "cell_type": "code",
   "execution_count": 40,
   "metadata": {
    "tags": []
   },
   "outputs": [],
   "source": [
    "import json\n",
    "f = open(\"/global/homes/s/seanjx/gigalens/238/output/238_2024-08-01 16:51:20.124047/asdf.json\")\n",
    "everything = json.load(f)\n",
    "#everything = {'897':everything['897']}\n",
    "#del everything['268']"
   ]
  },
  {
   "cell_type": "code",
   "execution_count": 41,
   "metadata": {
    "tags": []
   },
   "outputs": [
    {
     "name": "stdout",
     "output_type": "stream",
     "text": [
      "3.5435435435435436\n",
      "[  0   1   2   3   6   8  12  16  20  25  31  37  44  51  59  68  77  86\n",
      "  97 107 119 130 143 156 169 183 198 213 229 246 262 280 298 317 336 356\n",
      " 376 397 418 440 463 486 510 534 559 584 610 637 664 691 720 748 778 808\n",
      " 838 869 901 933 966 999]\n"
     ]
    }
   ],
   "source": [
    "a, b, c = 1, 60, 1000;\n",
    "t = b*(b-1)/999\n",
    "print(t)\n",
    "pee = np.round(np.arange(b)*(np.arange(b)+1)/t)\n",
    "pee = pee.astype(int)\n",
    "print(pee)"
   ]
  },
  {
   "cell_type": "code",
   "execution_count": 42,
   "metadata": {
    "tags": []
   },
   "outputs": [],
   "source": [
    "numpix = 120  # number of pixels per axis of the image to be modelled\n",
    "\n",
    "# here we define the numerical options used in the ImSim module. \n",
    "# Have a look at the ImageNumerics class for detailed descriptions.\n",
    "# If not further specified, the default settings are used.\n",
    "kwargs_numerics = {}\n",
    "\n",
    "\n",
    "def simulate_rgb(ConfigList, size, kwargs_numerics):\n",
    "    band_b, band_g, band_r = ConfigList\n",
    "    kwargs_b_band = band_b.kwargs_single_band()\n",
    "    kwargs_g_band = band_g.kwargs_single_band()\n",
    "    kwargs_r_band = band_r.kwargs_single_band()\n",
    "    \n",
    "    # set number of pixels from pixel scale\n",
    "    pixel_scale = kwargs_g_band['pixel_scale']\n",
    "    numpix = int(round(size / pixel_scale))\n",
    "\n",
    "    sim_b = SimAPI(numpix=numpix, kwargs_single_band=kwargs_b_band, kwargs_model=kwargs_model)\n",
    "    sim_g = SimAPI(numpix=numpix, kwargs_single_band=kwargs_g_band, kwargs_model=kwargs_model)\n",
    "    sim_r = SimAPI(numpix=numpix, kwargs_single_band=kwargs_r_band, kwargs_model=kwargs_model)\n",
    "\n",
    "    # return the ImSim instance. With this class instance, you can compute all the\n",
    "    # modelling accessible of the core modules. See class documentation and other notebooks.\n",
    "    imSim_b = sim_b.image_model_class(kwargs_numerics)\n",
    "    imSim_g = sim_g.image_model_class(kwargs_numerics)\n",
    "    imSim_r = sim_r.image_model_class(kwargs_numerics)\n",
    "\n",
    "\n",
    "    # turn magnitude kwargs into lenstronomy kwargs\n",
    "    kwargs_lens_light_g, kwargs_source_g, kwargs_ps_g = sim_b.magnitude2amplitude(kwargs_lens_light_mag_g, kwargs_source_mag_g)\n",
    "    kwargs_lens_light_r, kwargs_source_r, kwargs_ps_r = sim_g.magnitude2amplitude(kwargs_lens_light_mag_r, kwargs_source_mag_r)\n",
    "    kwargs_lens_light_i, kwargs_source_i, kwargs_ps_i = sim_r.magnitude2amplitude(kwargs_lens_light_mag_i, kwargs_source_mag_i)\n",
    "\n",
    "\n",
    "    image_b = imSim_b.image(kwargs_lens, kwargs_source_g, kwargs_lens_light_g)\n",
    "    image_g = imSim_g.image(kwargs_lens, kwargs_source_r, kwargs_lens_light_r)\n",
    "    image_r = imSim_r.image(kwargs_lens, kwargs_source_i, kwargs_lens_light_i)\n",
    "\n",
    "    # add noise\n",
    "    image_b += sim_b.noise_for_model(model=image_b)\n",
    "    image_g += sim_g.noise_for_model(model=image_g)\n",
    "    image_r += sim_r.noise_for_model(model=image_r)\n",
    "\n",
    "    # and plot it\n",
    "\n",
    "    img = np.zeros((image_g.shape[0], image_g.shape[1], 3), dtype=float)\n",
    "    #scale_max=10000\n",
    "    def _scale_max(image): \n",
    "        flat=image.flatten()\n",
    "        flat.sort()\n",
    "        scale_max = flat[int(len(flat)*0.95)]\n",
    "        return scale_max\n",
    "    img[:,:,0] = plot_util.sqrt(image_b, scale_min=0, scale_max=_scale_max(image_b))\n",
    "    img[:,:,1] = plot_util.sqrt(image_g, scale_min=0, scale_max=_scale_max(image_g))\n",
    "    img[:,:,2] = plot_util.sqrt(image_r, scale_min=0, scale_max=_scale_max(image_r))\n",
    "    data_class = sim_b.data_class\n",
    "    return img, data_class"
   ]
  },
  {
   "cell_type": "code",
   "execution_count": 49,
   "metadata": {
    "tags": []
   },
   "outputs": [],
   "source": [
    "for ii in pee:\n",
    "    f, axes = plt.subplots(4,4,figsize=(20,20))\n",
    "    for iii, system in enumerate(everything):\n",
    "\n",
    "        # g-band\n",
    "        # lens light\n",
    "        for iv in everything[system][str(ii)][1]:\n",
    "            iv['magnitude'] = 10\n",
    "        for iv in everything[system][str(ii)][2]:\n",
    "            iv['magnitude'] = 11\n",
    "        \n",
    "        kwargs_lens_light_mag_g = everything[system][str(ii)][1]\n",
    "        # source light\n",
    "        kwargs_source_mag_g = everything[system][str(ii)][2]\n",
    "\n",
    "\n",
    "        # and now we define the colors of the other two bands\n",
    "\n",
    "        # r-band\n",
    "        g_r_source = 1  # color mag_g - mag_r for source\n",
    "        g_r_lens = -1  # color mag_g - mag_r for lens light\n",
    "        kwargs_lens_light_mag_r = copy.deepcopy(kwargs_lens_light_mag_g)\n",
    "        kwargs_lens_light_mag_r[0]['magnitude'] -= g_r_lens\n",
    "\n",
    "        kwargs_source_mag_r = copy.deepcopy(kwargs_source_mag_g)\n",
    "        kwargs_source_mag_r[0]['magnitude'] -= g_r_source\n",
    "\n",
    "\n",
    "\n",
    "        # i-band\n",
    "        g_i_source = 2\n",
    "        g_i_lens = -2\n",
    "        kwargs_lens_light_mag_i = copy.deepcopy(kwargs_lens_light_mag_g)\n",
    "        kwargs_lens_light_mag_i[0]['magnitude'] -= g_i_lens\n",
    "\n",
    "        kwargs_source_mag_i = copy.deepcopy(kwargs_source_mag_g)\n",
    "        kwargs_source_mag_i[0]['magnitude'] -= g_i_source\n",
    "\n",
    "        \n",
    "        kwargs_lens = everything[system][str(ii)][0]\n",
    "        \n",
    "        \n",
    "        \n",
    "        size = 120*0.065 # width of the image in units of arc seconds\n",
    "\n",
    "        #img_des, coords_des = simulate_rgb(des, size=size, kwargs_numerics=kwargs_numerics)\n",
    "        #img_lsst, coords_lss = simulate_rgb(lsst, size=size, kwargs_numerics=kwargs_numerics)\n",
    "        img_roman, coords_roman = simulate_rgb(roman, size=size, kwargs_numerics=kwargs_numerics)\n",
    "\n",
    "        ax = np.reshape(axes,16)[iii]\n",
    "        ax.imshow(img_roman, aspect='equal', origin='lower', extent=[0, size, 0, size])\n",
    "        ax.set_axis_off()\n",
    "    plt.subplots_adjust(wspace=0.1)\n",
    "    plt.savefig(\"animation/\"+f\"{ii: 07d}.png\",transparent=True)\n",
    "    plt.close()"
   ]
  },
  {
   "cell_type": "code",
   "execution_count": 32,
   "metadata": {
    "tags": []
   },
   "outputs": [
    {
     "name": "stdout",
     "output_type": "stream",
     "text": [
      "1.0\n"
     ]
    }
   ],
   "source": [
    "print(np.max(img_roman))"
   ]
  },
  {
   "cell_type": "code",
   "execution_count": null,
   "metadata": {},
   "outputs": [],
   "source": []
  }
 ],
 "metadata": {
  "kernelspec": {
   "display_name": "JAX GIGALENS",
   "language": "python",
   "name": "jax-gigalens-kernel"
  },
  "language_info": {
   "codemirror_mode": {
    "name": "ipython",
    "version": 3
   },
   "file_extension": ".py",
   "mimetype": "text/x-python",
   "name": "python",
   "nbconvert_exporter": "python",
   "pygments_lexer": "ipython3",
   "version": "3.11.9"
  }
 },
 "nbformat": 4,
 "nbformat_minor": 4
}
