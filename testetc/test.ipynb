{
 "cells": [
  {
   "cell_type": "code",
   "execution_count": 6,
   "id": "cd6dcb7d-c469-48d7-9073-4ed8e417bab8",
   "metadata": {},
   "outputs": [],
   "source": [
    "pee = 0"
   ]
  },
  {
   "cell_type": "code",
   "execution_count": 7,
   "id": "bd1a6c16-ec81-4846-b643-b5c32f31612b",
   "metadata": {
    "tags": []
   },
   "outputs": [],
   "source": [
    "def wrapper(func):\n",
    "    if pee == 1:\n",
    "        func"
   ]
  },
  {
   "cell_type": "code",
   "execution_count": 8,
   "id": "792f551a-5f01-4430-86a5-4d2b7d51eb41",
   "metadata": {
    "tags": []
   },
   "outputs": [
    {
     "name": "stdout",
     "output_type": "stream",
     "text": [
      "0\n"
     ]
    }
   ],
   "source": [
    "wrapper(print(pee))"
   ]
  },
  {
   "cell_type": "code",
   "execution_count": null,
   "id": "23455f7c-4d56-4aff-a16c-bc45d33142b2",
   "metadata": {},
   "outputs": [],
   "source": []
  }
 ],
 "metadata": {
  "kernelspec": {
   "display_name": "JAX GIGALENS",
   "language": "python",
   "name": "jax-gigalens-kernel"
  },
  "language_info": {
   "codemirror_mode": {
    "name": "ipython",
    "version": 3
   },
   "file_extension": ".py",
   "mimetype": "text/x-python",
   "name": "python",
   "nbconvert_exporter": "python",
   "pygments_lexer": "ipython3",
   "version": "3.11.9"
  }
 },
 "nbformat": 4,
 "nbformat_minor": 5
}
