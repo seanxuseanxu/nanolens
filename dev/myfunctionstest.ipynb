{
 "cells": [
  {
   "cell_type": "code",
   "execution_count": 41,
   "id": "66037882-48c8-4500-9039-78ab0cb1c56c",
   "metadata": {
    "tags": []
   },
   "outputs": [],
   "source": [
    "import sys\n",
    "sys.path.append(\"/global/homes/s/seanjx/gigalens/src\")\n",
    "\n",
    "import importlib\n",
    "\n",
    "import myfunctions\n",
    "from gigalens.model import PhysicalModel\n",
    "from gigalens.jax.profiles.light import sersic\n",
    "from gigalens.jax.profiles.mass import epl, shear, sie, sis"
   ]
  },
  {
   "cell_type": "code",
   "execution_count": 47,
   "id": "9387bd5e-cfc3-4e0c-b494-99e6207400f8",
   "metadata": {
    "tags": []
   },
   "outputs": [
    {
     "name": "stdout",
     "output_type": "stream",
     "text": [
      "True\n"
     ]
    }
   ],
   "source": [
    "phys_model = PhysicalModel([sie.SIE(),shear.Shear()], [sersic.Sersic(use_lstsq=True),sersic.Sersic(use_lstsq=True),sersic.SersicEllipse(use_lstsq=True)],[sersic.SersicEllipse(use_lstsq=True),])\n",
    "phys_model.getProfiles()[2][0]._params\n",
    "print(phys_model.__class__==PhysicalModel)"
   ]
  },
  {
   "cell_type": "code",
   "execution_count": 49,
   "id": "bd39b700-45f7-40f4-91c9-0afdaefd8589",
   "metadata": {
    "tags": []
   },
   "outputs": [],
   "source": [
    "importlib.reload(myfunctions)\n",
    "myfunctions.makeJson(phys_model)"
   ]
  },
  {
   "cell_type": "code",
   "execution_count": 62,
   "id": "49b567b4-1fa2-4e55-ba99-d7f24ca915bf",
   "metadata": {},
   "outputs": [
    {
     "name": "stdout",
     "output_type": "stream",
     "text": [
      "R_sersic\n",
      "n_sersic\n",
      "e1\n",
      "e2\n",
      "center_x\n",
      "center_y\n",
      "R_sersic\n",
      "n_sersic\n",
      "e1\n",
      "e2\n",
      "center_x\n",
      "center_y\n",
      "R_sersic\n",
      "n_sersic\n",
      "e1\n",
      "e2\n",
      "center_x\n",
      "center_y\n"
     ]
    },
    {
     "data": {
      "text/plain": [
       "[[{'theta_E': array([], dtype=int32),\n",
       "   'e2': array([], dtype=int32),\n",
       "   'e1': array([], dtype=int32),\n",
       "   'center_y': array([], dtype=int32),\n",
       "   'center_x': array([], dtype=int32)},\n",
       "  {'gamma2': array([], dtype=int32), 'gamma1': array([], dtype=int32)}],\n",
       " [{'n_sersic': array([], dtype=int32),\n",
       "   'center_y': array([], dtype=int32),\n",
       "   'center_x': array([], dtype=int32)},\n",
       "  {'n_sersic': array([], dtype=int32),\n",
       "   'center_y': array([], dtype=int32),\n",
       "   'center_x': array([], dtype=int32)},\n",
       "  {'n_sersic': array([], dtype=int32),\n",
       "   'center_y': array([], dtype=int32),\n",
       "   'center_x': array([], dtype=int32)}],\n",
       " [{'n_sersic': array([], dtype=int32),\n",
       "   'center_y': array([], dtype=int32),\n",
       "   'center_x': array([], dtype=int32)},\n",
       "  {'n_sersic': array([], dtype=int32),\n",
       "   'center_y': array([], dtype=int32),\n",
       "   'center_x': array([], dtype=int32)}]]"
      ]
     },
     "execution_count": 62,
     "metadata": {},
     "output_type": "execute_result"
    }
   ],
   "source": [
    "importlib.reload(myfunctions)\n",
    "prior, phys_model = myfunctions.readJson(\"prior.json\")\n",
    "phys_model.getProfiles()\n",
    "prior.event_shape_tensor()"
   ]
  },
  {
   "cell_type": "code",
   "execution_count": 29,
   "id": "40d15d76-3284-4173-a646-af6b70adbb28",
   "metadata": {},
   "outputs": [
    {
     "name": "stdout",
     "output_type": "stream",
     "text": [
      "27\n"
     ]
    }
   ],
   "source": [
    "print(myfunctions.countParameters(phys_model))"
   ]
  },
  {
   "cell_type": "code",
   "execution_count": null,
   "id": "eea83b33-c789-4ea0-b554-8ab817a985ac",
   "metadata": {},
   "outputs": [],
   "source": []
  }
 ],
 "metadata": {
  "kernelspec": {
   "display_name": "gigajax",
   "language": "python",
   "name": "gigajax"
  },
  "language_info": {
   "codemirror_mode": {
    "name": "ipython",
    "version": 3
   },
   "file_extension": ".py",
   "mimetype": "text/x-python",
   "name": "python",
   "nbconvert_exporter": "python",
   "pygments_lexer": "ipython3",
   "version": "3.12.3"
  }
 },
 "nbformat": 4,
 "nbformat_minor": 5
}
