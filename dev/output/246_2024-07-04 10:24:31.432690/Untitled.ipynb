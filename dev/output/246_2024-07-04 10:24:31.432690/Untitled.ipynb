{
 "cells": [
  {
   "cell_type": "code",
   "execution_count": 1,
   "id": "79c62322-954d-411b-ba4d-d48d30cd398c",
   "metadata": {
    "tags": []
   },
   "outputs": [],
   "source": [
    "import jax.numpy as jnp\n",
    "def convertEllipticity(e1, e2):\n",
    "    phi = jnp.arctan2(e2, e1) / 2\n",
    "    c = jnp.minimum(jnp.sqrt(e1 ** 2 + e2 ** 2), 0.9999)\n",
    "    q = (1 - c) / (1 + c)\n",
    "    return float(q), float(phi)"
   ]
  },
  {
   "cell_type": "code",
   "execution_count": 2,
   "id": "becb1743-8eb7-491c-8806-b2c9a04a5669",
   "metadata": {
    "tags": []
   },
   "outputs": [
    {
     "data": {
      "text/plain": [
       "(0.029125211760401726, 0.27929964661598206)"
      ]
     },
     "execution_count": 2,
     "metadata": {},
     "output_type": "execute_result"
    }
   ],
   "source": [
    "convertEllipticity(0.8,0.5)"
   ]
  },
  {
   "cell_type": "code",
   "execution_count": null,
   "id": "3c2125c0-35ac-40e2-879d-f7248c91de2e",
   "metadata": {},
   "outputs": [],
   "source": []
  }
 ],
 "metadata": {
  "kernelspec": {
   "display_name": "gigajax",
   "language": "python",
   "name": "gigajax"
  },
  "language_info": {
   "codemirror_mode": {
    "name": "ipython",
    "version": 3
   },
   "file_extension": ".py",
   "mimetype": "text/x-python",
   "name": "python",
   "nbconvert_exporter": "python",
   "pygments_lexer": "ipython3",
   "version": "3.12.3"
  }
 },
 "nbformat": 4,
 "nbformat_minor": 5
}
