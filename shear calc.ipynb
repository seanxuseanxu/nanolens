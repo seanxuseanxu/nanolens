{
 "cells": [
  {
   "cell_type": "code",
   "execution_count": 1,
   "id": "348787e8-b771-49cf-b551-c16f2f3fee39",
   "metadata": {
    "tags": []
   },
   "outputs": [],
   "source": [
    "def luminosity(flux, luminosityDistance):\n",
    "    return flux * 4 * 3.1415926 * luminosityDistance**2"
   ]
  },
  {
   "cell_type": "code",
   "execution_count": null,
   "id": "4ec9870d-a2c1-4db4-b65c-97fda4f42513",
   "metadata": {},
   "outputs": [],
   "source": [
    "luminosity()"
   ]
  }
 ],
 "metadata": {
  "kernelspec": {
   "display_name": "gigajax",
   "language": "python",
   "name": "gigajax"
  },
  "language_info": {
   "codemirror_mode": {
    "name": "ipython",
    "version": 3
   },
   "file_extension": ".py",
   "mimetype": "text/x-python",
   "name": "python",
   "nbconvert_exporter": "python",
   "pygments_lexer": "ipython3",
   "version": "3.12.3"
  }
 },
 "nbformat": 4,
 "nbformat_minor": 5
}
